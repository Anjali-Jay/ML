{
 "cells": [
  {
   "cell_type": "code",
   "execution_count": 1,
   "metadata": {},
   "outputs": [],
   "source": [
    "import numpy as np\n",
    "import pandas as pd\n",
    "import random\n",
    "import os\n",
    "import cv2\n",
    "import warnings\n",
    "warnings.filterwarnings(\"ignore\")"
   ]
  },
  {
   "cell_type": "code",
   "execution_count": 2,
   "metadata": {},
   "outputs": [],
   "source": [
    "os.chdir(r'C:\\Users\\Admin\\machineLearning\\Haarcascade')"
   ]
  },
  {
   "cell_type": "code",
   "execution_count": 3,
   "metadata": {},
   "outputs": [],
   "source": [
    "face_cascade=cv2.CascadeClassifier(\"haarcascade_frontalface_Default.xml\")"
   ]
  },
  {
   "cell_type": "markdown",
   "metadata": {},
   "source": [
    "## Camera Setup"
   ]
  },
  {
   "cell_type": "code",
   "execution_count": 4,
   "metadata": {},
   "outputs": [],
   "source": [
    "capture=cv2.VideoCapture(0)\n",
    "\n",
    "while True:\n",
    "    ret,frame=capture.read()\n",
    "    cv2.imshow(\"output\",frame)\n",
    "    \n",
    "    if cv2.waitKey(1) & 0xff==ord('q'):    #ord('q') is the range to close the loop\n",
    "        break\n",
    "        \n",
    "capture.release()\n",
    "cv2.destroyAllWindows()\n",
    "\n",
    "#coloured video capture"
   ]
  },
  {
   "cell_type": "code",
   "execution_count": 5,
   "metadata": {},
   "outputs": [],
   "source": [
    "capture=cv2.VideoCapture(0)\n",
    "\n",
    "while True:\n",
    "    ret,frame=capture.read()\n",
    "    frame=cv2.cvtColor(frame,cv2.COLOR_BGR2GRAY)\n",
    "    cv2.imshow(\"output\",frame)\n",
    "    \n",
    "    if cv2.waitKey(1) & 0xff==ord('q'):    #ord('q') is the range to close the loop\n",
    "        break\n",
    "        \n",
    "capture.release()\n",
    "cv2.destroyAllWindows()"
   ]
  },
  {
   "cell_type": "markdown",
   "metadata": {},
   "source": [
    "## Face Recognition"
   ]
  },
  {
   "cell_type": "code",
   "execution_count": 6,
   "metadata": {},
   "outputs": [],
   "source": [
    "def detect_face(image):\n",
    "    \n",
    "    face_copy=image.copy()\n",
    "    \n",
    "    face_rects=face_cascade.detectMultiScale(face_copy,1.3,5)\n",
    "    \n",
    "    for (x,y,w,h) in face_rects:\n",
    "        cv2.rectangle(face_copy,(x,y),(x+w,y+h),(0,0,255),5)\n",
    "        \n",
    "    return face_copy\n",
    "\n",
    "capture=cv2.VideoCapture(0)\n",
    "\n",
    "while True:\n",
    "    ret,frame=capture.read()\n",
    "    frame=cv2.cvtColor(frame,cv2.COLOR_BGR2GRAY)\n",
    "    output=detect_face(frame)\n",
    "    cv2.imshow(\"output\",output)\n",
    "    \n",
    "    if cv2.waitKey(1) & 0xff==ord('q'):    #ord('q') is the range to close the loop\n",
    "        break\n",
    "        \n",
    "capture.release()\n",
    "cv2.destroyAllWindows()"
   ]
  },
  {
   "cell_type": "markdown",
   "metadata": {},
   "source": [
    "## Eye Detection"
   ]
  },
  {
   "cell_type": "code",
   "execution_count": 7,
   "metadata": {},
   "outputs": [],
   "source": [
    "eye_cascade=cv2.CascadeClassifier(\"haarcascade_eye.xml\")\n",
    "\n",
    "def detect_eye(image):\n",
    "    eye_copy=image.copy()\n",
    "    eye_rects=eye_cascade.detectMultiScale(eye_copy,1.1,10)\n",
    "    \n",
    "    for (x,y,w,h) in eye_rects:\n",
    "        cv2.rectangle(eye_copy,(x,y),(x+w,y+h),(0,0,255),5)\n",
    "\n",
    "    return eye_copy\n",
    "\n",
    "capture=cv2.VideoCapture(0)\n",
    "\n",
    "while True:\n",
    "    ret,frame=capture.read()\n",
    "    frame=cv2.cvtColor(frame,cv2.COLOR_BGR2GRAY)    #for b/w video.. to get coloured video close this\n",
    "    output=detect_eye(frame)\n",
    "    cv2.imshow(\"output\",output)\n",
    "    if cv2.waitKey(1) & 0xff==ord('q'):\n",
    "        break\n",
    "\n",
    "capture.release()\n",
    "cv2.destroyAllWindows()"
   ]
  },
  {
   "cell_type": "markdown",
   "metadata": {},
   "source": [
    "## Smile Detection"
   ]
  },
  {
   "cell_type": "code",
   "execution_count": 8,
   "metadata": {},
   "outputs": [],
   "source": [
    "smile_cascade=cv2.CascadeClassifier(\"haarcascade_smile.xml\")\n",
    "\n",
    "def detect_smile(image):\n",
    "    smile_copy=image.copy()\n",
    "    smile_rects=smile_cascade.detectMultiScale(smile_copy,1.7,22)\n",
    "    for (x,y,w,h) in smile_rects:\n",
    "        cv2.rectangle(smile_copy,(x,y),(x+w,y+h),(0,0,255),5)\n",
    "    return smile_copy\n",
    "\n",
    "capture=cv2.VideoCapture(0)\n",
    "\n",
    "while True:\n",
    "    ret,frame=capture.read()\n",
    "    #frame=cv2.cvtColor(frame,cv2.COLOR_BGR2GRAY)  \n",
    "    output=detect_smile(frame)\n",
    "    cv2.imshow(\"output\",output)\n",
    "    if cv2.waitKey(1) & 0xff==ord('q'):\n",
    "        break\n",
    "\n",
    "capture.release()\n",
    "cv2.destroyAllWindows()\n",
    "    "
   ]
  },
  {
   "cell_type": "markdown",
   "metadata": {},
   "source": [
    "## Face , Smile & Eye Detection"
   ]
  },
  {
   "cell_type": "code",
   "execution_count": 9,
   "metadata": {},
   "outputs": [],
   "source": [
    "face_cascade=cv2.CascadeClassifier(\"haarcascade_frontalface_default.xml\")\n",
    "eye_cascade=cv2.CascadeClassifier(\"haarcascade_eye.xml\")\n",
    "smile_cascade=cv2.CascadeClassifier(\"haarcascade_smile.xml\")\n",
    "\n",
    "def detect(image):\n",
    "    face_copy=image.copy()\n",
    "    \n",
    "    face_rects=face_cascade.detectMultiScale(face_copy,1.3,5)\n",
    "    \n",
    "    for (x,y,w,h) in face_rects:\n",
    "        cv2.rectangle(face_copy,(x,y),(x+w,y+h),(0,0,255),3)\n",
    "        roi_frame=face_copy[y:y+h,x:x+w]\n",
    "        eye_rects=eye_cascade.detectMultiScale(roi_frame,1.1,10)\n",
    "\n",
    "        for (ex,ey,ew,eh) in eye_rects:\n",
    "            cv2.rectangle(roi_frame,(ex,ey),(ex+ew,ey+eh),(0,255,0),3)\n",
    "        \n",
    "        smile_rects=smile_cascade.detectMultiScale(roi_frame,1.7,22)\n",
    "        \n",
    "        for (sx,sy,sw,sh) in smile_rects:\n",
    "            cv2.rectangle(roi_frame,(sx,sy),(sx+sw,sy+sh),(255,0,0),3)\n",
    "    \n",
    "    return face_copy\n",
    "\n",
    "capture=cv2.VideoCapture(0)\n",
    "\n",
    "while True:\n",
    "    ret,frame=capture.read()\n",
    "    #frame=cv2.cvtColor(frame,cv2.COLOR_BGR2GRAY)\n",
    "    output=detect(frame)\n",
    "    cv2.imshow(\"output\",output)\n",
    "\n",
    "    if cv2.waitKey(1) & 0xff==ord('q'):\n",
    "        break\n",
    "\n",
    "capture.release()\n",
    "cv2.destroyAllWindows()"
   ]
  },
  {
   "cell_type": "markdown",
   "metadata": {},
   "source": [
    "## Number Plate Detection"
   ]
  },
  {
   "cell_type": "code",
   "execution_count": 10,
   "metadata": {},
   "outputs": [],
   "source": [
    "image=cv2.imread(\"image.jpg\")\n",
    "cv2.imshow(\"output\",image)\n",
    "cv2.waitKey(0)\n",
    "cv2.destroyAllWindows()"
   ]
  },
  {
   "cell_type": "code",
   "execution_count": 11,
   "metadata": {},
   "outputs": [],
   "source": [
    "def detect_plate(image):\n",
    "    \n",
    "    plate_cascade=cv2.CascadeClassifier(\"haarcascade_russian_plate_number.xml\")\n",
    "    plate_copy=image.copy()\n",
    "    \n",
    "    plate_rects=plate_cascade.detectMultiScale(plate_copy,1.1,3)\n",
    "\n",
    "    for (x,y,w,h) in plate_rects:\n",
    "        cv2.rectangle(plate_copy,(x,y),(x+w,y+h),(0,255,0),3)\n",
    "        \n",
    "    return plate_copy"
   ]
  },
  {
   "cell_type": "code",
   "execution_count": 12,
   "metadata": {},
   "outputs": [],
   "source": [
    "output=detect_plate(image)\n",
    "cv2.imshow(\"output\",output)\n",
    "cv2.waitKey(0)\n",
    "cv2.destroyAllWindows()"
   ]
  },
  {
   "cell_type": "markdown",
   "metadata": {},
   "source": [
    "## Blurring Number Plate"
   ]
  },
  {
   "cell_type": "code",
   "execution_count": 13,
   "metadata": {},
   "outputs": [],
   "source": [
    "def detect_plate(image):\n",
    "    plate_cascade=cv2.CascadeClassifier(\"haarcascade_russian_plate_number.xml\")\n",
    "\n",
    "    plate_copy=image.copy()\n",
    "    plate_rects=plate_cascade.detectMultiScale(plate_copy,1.1,3)\n",
    "    \n",
    "    for (x,y,w,h) in plate_rects:\n",
    "        roi=plate_copy[y:y+h,x:x+w]\n",
    "        blurr=cv2.medianBlur(roi,101) #it should be odd and greater than one\n",
    "        plate_copy[y:y+h,x:x+w]=blurr\n",
    "        cv2.rectangle(plate_copy,(x,y),(x+w,y+h),(0,255,0),3)   #blurr effect with rectangle boundary... to remove boundary delete this line\n",
    "\n",
    "    return plate_copy"
   ]
  },
  {
   "cell_type": "code",
   "execution_count": 14,
   "metadata": {},
   "outputs": [],
   "source": [
    "output=detect_plate(image)\n",
    "cv2.imshow(\"output\",output)\n",
    "cv2.waitKey(0)\n",
    "cv2.destroyAllWindows()"
   ]
  },
  {
   "cell_type": "markdown",
   "metadata": {},
   "source": [
    "## Blurring Face "
   ]
  },
  {
   "cell_type": "code",
   "execution_count": 15,
   "metadata": {},
   "outputs": [],
   "source": [
    "face_cascade=cv2.CascadeClassifier(\"haarcascade_frontalface_default.xml\")\n",
    "\n",
    "def detect_face(image):\n",
    "    face_copy=image.copy()\n",
    "    face_rects=face_cascade.detectMultiScale(face_copy,1.3,5)\n",
    "\n",
    "    for (x,y,w,h) in face_rects:\n",
    "        roi=face_copy[y:y+h,x:x+w]\n",
    "        blurr=cv2.medianBlur(roi,101)\n",
    "        face_copy[y:y+h,x:x+w]=blurr\n",
    "\n",
    "    return face_copy\n",
    "\n",
    "capture=cv2.VideoCapture(0)\n",
    "\n",
    "while True:\n",
    "    ret,frame=capture.read()\n",
    "    frame=cv2.cvtColor(frame,cv2.COLOR_BGR2GRAY)\n",
    "    output=detect_face(frame)\n",
    "    cv2.imshow(\"output\",output)\n",
    "\n",
    "    if cv2.waitKey(1) & 0xff==ord('q'):\n",
    "        break\n",
    "\n",
    "capture.release()\n",
    "cv2.destroyAllWindows()"
   ]
  },
  {
   "cell_type": "code",
   "execution_count": null,
   "metadata": {},
   "outputs": [],
   "source": []
  },
  {
   "cell_type": "code",
   "execution_count": null,
   "metadata": {},
   "outputs": [],
   "source": []
  }
 ],
 "metadata": {
  "kernelspec": {
   "display_name": "Python 3 (ipykernel)",
   "language": "python",
   "name": "python3"
  },
  "language_info": {
   "codemirror_mode": {
    "name": "ipython",
    "version": 3
   },
   "file_extension": ".py",
   "mimetype": "text/x-python",
   "name": "python",
   "nbconvert_exporter": "python",
   "pygments_lexer": "ipython3",
   "version": "3.9.13"
  }
 },
 "nbformat": 4,
 "nbformat_minor": 4
}
